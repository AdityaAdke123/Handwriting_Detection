{
 "cells": [
  {
   "cell_type": "code",
   "execution_count": 54,
   "metadata": {},
   "outputs": [],
   "source": [
    "import joblib\n",
    "from scipy import stats\n",
    "import numpy as np\n",
    "import pandas as pd\n",
    "import matplotlib.pyplot as plt\n",
    "from sklearn.metrics import mean_squared_error\n",
    "from sklearn.metrics import r2_score  \n",
    "from sklearn.model_selection import train_test_split\n",
    "from sklearn.metrics import classification_report\n",
    "from sklearn.model_selection import cross_val_score \n",
    "from sklearn import metrics\n",
    "from sklearn.metrics import ConfusionMatrixDisplay\n",
    "import seaborn as sns\n",
    "from sklearn.manifold import TSNE, Isomap\n",
    "import time"
   ]
  },
  {
   "cell_type": "markdown",
   "metadata": {},
   "source": [
    "# Load Data"
   ]
  },
  {
   "cell_type": "code",
   "execution_count": 55,
   "metadata": {},
   "outputs": [
    {
     "name": "stdout",
     "output_type": "stream",
     "text": [
      "['name', 'MDVP:Fo(Hz)', 'MDVP:Fhi(Hz)', 'MDVP:Flo(Hz)', 'MDVP:Jitter(%)', 'MDVP:Jitter(Abs)', 'MDVP:RAP', 'MDVP:PPQ', 'Jitter:DDP', 'MDVP:Shimmer', 'MDVP:Shimmer(dB)', 'Shimmer:APQ3', 'Shimmer:APQ5', 'MDVP:APQ', 'Shimmer:DDA', 'NHR', 'HNR', 'status', 'RPDE', 'DFA', 'spread1', 'spread2', 'D2', 'PPE']\n"
     ]
    }
   ],
   "source": [
    "df = pd.read_csv(\"./dataset.csv\")\n",
    "\n",
    "feature_names = df.columns.tolist()\n",
    "print(feature_names)"
   ]
  },
  {
   "cell_type": "code",
   "execution_count": 56,
   "metadata": {},
   "outputs": [],
   "source": [
    "X = df.drop(columns=['status', 'name'])\n",
    "t = df['status'].astype(int)"
   ]
  },
  {
   "cell_type": "markdown",
   "metadata": {},
   "source": [
    "# Load Models"
   ]
  },
  {
   "cell_type": "code",
   "execution_count": 57,
   "metadata": {},
   "outputs": [],
   "source": [
    "# Load the models fot Task 1: \n",
    "\n",
    "svm_model = joblib.load('svm_model.pkl')\n",
    "rf_model = joblib.load('rf_model.pkl')"
   ]
  },
  {
   "cell_type": "markdown",
   "metadata": {},
   "source": [
    "# Split Data"
   ]
  },
  {
   "cell_type": "code",
   "execution_count": 58,
   "metadata": {},
   "outputs": [],
   "source": [
    "# PIPELINE: If the data is seperated in Data X and Target y\n",
    "X_train, X_test, t_train, t_test = train_test_split(X, t, \n",
    "                                                    test_size =0.2,\n",
    "                                                    random_state=42,\n",
    "                                                    shuffle=True, \n",
    "                                                    stratify=t)"
   ]
  },
  {
   "cell_type": "markdown",
   "metadata": {},
   "source": [
    "# Evaluation SVM "
   ]
  },
  {
   "cell_type": "code",
   "execution_count": 59,
   "metadata": {},
   "outputs": [
    {
     "name": "stdout",
     "output_type": "stream",
     "text": [
      "Training inference time for the SVM model is 0.1 s\n"
     ]
    }
   ],
   "source": [
    "start_time = time.time()\n",
    "y_train = svm_model['Model'].predict(X_train)\n",
    "y_test = svm_model['Model'].predict(X_test)\n",
    "testing_time = time.time() - start_time\n",
    "\n",
    "print(f\"Training inference time for the SVM model is {testing_time:.1f} s\")"
   ]
  },
  {
   "cell_type": "code",
   "execution_count": 60,
   "metadata": {},
   "outputs": [
    {
     "name": "stdout",
     "output_type": "stream",
     "text": [
      "Training set performance:\n",
      "Accuracy: 1.000\n",
      "Precision: 1.000\n",
      "Recall: 1.000\n",
      "F1 Score: 1.000\n",
      "              precision    recall  f1-score   support\n",
      "\n",
      "           0       1.00      1.00      1.00       838\n",
      "           1       1.00      1.00      1.00       118\n",
      "\n",
      "    accuracy                           1.00       956\n",
      "   macro avg       1.00      1.00      1.00       956\n",
      "weighted avg       1.00      1.00      1.00       956\n",
      "\n",
      "Test set performance:\n",
      "Accuracy: 0.979\n",
      "Precision: 0.875\n",
      "Recall: 0.966\n",
      "F1 Score: 0.918\n",
      "              precision    recall  f1-score   support\n",
      "\n",
      "           0       1.00      0.98      0.99       210\n",
      "           1       0.88      0.97      0.92        29\n",
      "\n",
      "    accuracy                           0.98       239\n",
      "   macro avg       0.94      0.97      0.95       239\n",
      "weighted avg       0.98      0.98      0.98       239\n",
      "\n"
     ]
    },
    {
     "data": {
      "image/png": "[encoded data removed]",
      "text/plain": [
       "<Figure size 600x600 with 2 Axes>"
      ]
     },
     "metadata": {},
     "output_type": "display_data"
    }
   ],
   "source": [
    "# TRAINING SET PERFORMANCE\n",
    "print('Training set performance:')\n",
    "accuracy_train = metrics.accuracy_score(t_train, y_train)\n",
    "print(\"Accuracy: %.3f\" % accuracy_train)\n",
    "precision_train = metrics.precision_score(t_train, y_train)\n",
    "print(\"Precision: %.3f\" % precision_train)\n",
    "recall_train = metrics.recall_score(t_train, y_train)\n",
    "print(\"Recall: %.3f\" % recall_train)\n",
    "f1_train = metrics.f1_score(t_train, y_train)\n",
    "print(\"F1 Score: %.3f\" % f1_train)\n",
    "print(metrics.classification_report(t_train, y_train))\n",
    "\n",
    "# TEST SET PERFORMANCE\n",
    "print('Test set performance:')\n",
    "accuracy_test = metrics.accuracy_score(t_test, y_test)\n",
    "print(\"Accuracy: %.3f\" % accuracy_test)\n",
    "precision_test = metrics.precision_score(t_test, y_test)\n",
    "print(\"Precision: %.3f\" % precision_test)\n",
    "recall_test = metrics.recall_score(t_test, y_test)\n",
    "print(\"Recall: %.3f\" % recall_test)\n",
    "f1_test = metrics.f1_score(t_test, y_test)\n",
    "print(\"F1 Score: %.3f\" % f1_test)\n",
    "print(metrics.classification_report(t_test, y_test))\n",
    "\n",
    "# Create a figure with 1 row and 2 columns for subplots\n",
    "fig, axes = plt.subplots(1, 2, figsize=(6, 6))\n",
    "\n",
    "# Confusion Matrix for the Training Set\n",
    "cm_train = metrics.confusion_matrix(t_train, y_train)\n",
    "sns.heatmap(cm_train.T, square=True, annot=True, fmt='d', cbar=False, ax=axes[0])\n",
    "axes[0].set_xlabel('True label')\n",
    "axes[0].set_ylabel('Predicted label')\n",
    "axes[0].set_title('Confusion Matrix - Training Set')\n",
    "\n",
    "# Confusion Matrix for the Test Set\n",
    "cm_test = metrics.confusion_matrix(t_test, y_test)\n",
    "sns.heatmap(cm_test.T, square=True, annot=True, fmt='d', cbar=False, ax=axes[1])\n",
    "axes[1].set_xlabel('True label')\n",
    "axes[1].set_ylabel('Predicted label')\n",
    "axes[1].set_title('Confusion Matrix - Test Set')\n",
    "\n",
    "# Display the plot\n",
    "plt.tight_layout()\n",
    "plt.show()"
   ]
  },
  {
   "cell_type": "code",
   "execution_count": 61,
   "metadata": {},
   "outputs": [
    {
     "name": "stdout",
     "output_type": "stream",
     "text": [
      "Training Time of the SVM: 1.4 s\n"
     ]
    }
   ],
   "source": [
    "print(f\"Training Time of the SVM: {svm_model['Training Time']:.1f} s\")"
   ]
  },
  {
   "cell_type": "markdown",
   "metadata": {},
   "source": [
    "# Evaluation Random Forest"
   ]
  },
  {
   "cell_type": "code",
   "execution_count": 62,
   "metadata": {},
   "outputs": [
    {
     "name": "stdout",
     "output_type": "stream",
     "text": [
      "Training inference time for the Random Forest model is 0.0 s\n"
     ]
    }
   ],
   "source": [
    "start_time = time.time()\n",
    "y_train = rf_model['Model'].predict(X_train)\n",
    "y_test = rf_model['Model'].predict(X_test)\n",
    "testing_time = time.time() - start_time\n",
    "\n",
    "print(f\"Training inference time for the Random Forest model is {testing_time:.1f} s\")"
   ]
  },
  {
   "cell_type": "code",
   "execution_count": 63,
   "metadata": {},
   "outputs": [
    {
     "name": "stdout",
     "output_type": "stream",
     "text": [
      "Training set performance:\n",
      "Accuracy: 1.000\n",
      "Precision: 1.000\n",
      "Recall: 1.000\n",
      "F1 Score: 1.000\n",
      "              precision    recall  f1-score   support\n",
      "\n",
      "           0       1.00      1.00      1.00       838\n",
      "           1       1.00      1.00      1.00       118\n",
      "\n",
      "    accuracy                           1.00       956\n",
      "   macro avg       1.00      1.00      1.00       956\n",
      "weighted avg       1.00      1.00      1.00       956\n",
      "\n",
      "Test set performance:\n",
      "Accuracy: 0.979\n",
      "Precision: 0.875\n",
      "Recall: 0.966\n",
      "F1 Score: 0.918\n",
      "              precision    recall  f1-score   support\n",
      "\n",
      "           0       1.00      0.98      0.99       210\n",
      "           1       0.88      0.97      0.92        29\n",
      "\n",
      "    accuracy                           0.98       239\n",
      "   macro avg       0.94      0.97      0.95       239\n",
      "weighted avg       0.98      0.98      0.98       239\n",
      "\n"
     ]
    },
    {
     "data": {
      "image/png": "[encoded data removed]",
      "text/plain": [
       "<Figure size 600x600 with 2 Axes>"
      ]
     },
     "metadata": {},
     "output_type": "display_data"
    }
   ],
   "source": [
    "# TRAINING SET PERFORMANCE\n",
    "print('Training set performance:')\n",
    "accuracy_train = metrics.accuracy_score(t_train, y_train)\n",
    "print(\"Accuracy: %.3f\" % accuracy_train)\n",
    "precision_train = metrics.precision_score(t_train, y_train)\n",
    "print(\"Precision: %.3f\" % precision_train)\n",
    "recall_train = metrics.recall_score(t_train, y_train)\n",
    "print(\"Recall: %.3f\" % recall_train)\n",
    "f1_train = metrics.f1_score(t_train, y_train)\n",
    "print(\"F1 Score: %.3f\" % f1_train)\n",
    "print(metrics.classification_report(t_train, y_train))\n",
    "\n",
    "# TEST SET PERFORMANCE\n",
    "print('Test set performance:')\n",
    "accuracy_test = metrics.accuracy_score(t_test, y_test)\n",
    "print(\"Accuracy: %.3f\" % accuracy_test)\n",
    "precision_test = metrics.precision_score(t_test, y_test)\n",
    "print(\"Precision: %.3f\" % precision_test)\n",
    "recall_test = metrics.recall_score(t_test, y_test)\n",
    "print(\"Recall: %.3f\" % recall_test)\n",
    "f1_test = metrics.f1_score(t_test, y_test)\n",
    "print(\"F1 Score: %.3f\" % f1_test)\n",
    "print(metrics.classification_report(t_test, y_test))\n",
    "\n",
    "# Create a figure with 1 row and 2 columns for subplots\n",
    "fig, axes = plt.subplots(1, 2, figsize=(6, 6))\n",
    "\n",
    "# Confusion Matrix for the Training Set\n",
    "cm_train = metrics.confusion_matrix(t_train, y_train)\n",
    "sns.heatmap(cm_train.T, square=True, annot=True, fmt='d', cbar=False, ax=axes[0])\n",
    "axes[0].set_xlabel('True label')\n",
    "axes[0].set_ylabel('Predicted label')\n",
    "axes[0].set_title('Confusion Matrix - Training Set')\n",
    "\n",
    "# Confusion Matrix for the Test Set\n",
    "cm_test = metrics.confusion_matrix(t_test, y_test)\n",
    "sns.heatmap(cm_test.T, square=True, annot=True, fmt='d', cbar=False, ax=axes[1])\n",
    "axes[1].set_xlabel('True label')\n",
    "axes[1].set_ylabel('Predicted label')\n",
    "axes[1].set_title('Confusion Matrix - Test Set')\n",
    "\n",
    "# Display the plot\n",
    "plt.tight_layout()\n",
    "plt.show()"
   ]
  },
  {
   "cell_type": "code",
   "execution_count": 64,
   "metadata": {},
   "outputs": [
    {
     "name": "stdout",
     "output_type": "stream",
     "text": [
      "Training Time of the Random Forest model: 45.0 s\n"
     ]
    }
   ],
   "source": [
    "print(f\"Training Time of the Random Forest model: {rf_model['Training Time']:.1f} s\")"
   ]
  }
 ],
 "metadata": {
  "kernelspec": {
   "display_name": "c_env",
   "language": "python",
   "name": "python3"
  },
  "language_info": {
   "codemirror_mode": {
    "name": "ipython",
    "version": 3
   },
   "file_extension": ".py",
   "mimetype": "text/x-python",
   "name": "python",
   "nbconvert_exporter": "python",
   "pygments_lexer": "ipython3",
   "version": "3.9.19"
  }
 },
 "nbformat": 4,
 "nbformat_minor": 2
}
